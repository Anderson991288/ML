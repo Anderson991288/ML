{
  "nbformat": 4,
  "nbformat_minor": 0,
  "metadata": {
    "colab": {
      "name": "simple linear regression1.ipynb",
      "provenance": [],
      "collapsed_sections": [],
      "authorship_tag": "ABX9TyOzRHTJVojCvHkzo42yx0tD",
      "include_colab_link": true
    },
    "kernelspec": {
      "name": "python3",
      "display_name": "Python 3"
    },
    "language_info": {
      "name": "python"
    }
  },
  "cells": [
    {
      "cell_type": "markdown",
      "metadata": {
        "id": "view-in-github",
        "colab_type": "text"
      },
      "source": [
        "<a href=\"https://colab.research.google.com/github/Anderson991288/ML/blob/main/simple_linear_regression1.ipynb\" target=\"_parent\"><img src=\"https://colab.research.google.com/assets/colab-badge.svg\" alt=\"Open In Colab\"/></a>"
      ]
    },
    {
      "cell_type": "code",
      "metadata": {
        "id": "mfeWpPoQSGVF"
      },
      "source": [
        "import numpy as np\n",
        "import matplotlib.pyplot as plt\n",
        "import sympy"
      ],
      "execution_count": null,
      "outputs": []
    },
    {
      "cell_type": "code",
      "metadata": {
        "id": "GRffdocHTqIn"
      },
      "source": [
        "#Target function line\n",
        "X = np.linspace(0, 10)\n",
        "f = lambda x: x #y=x\n",
        "F = np.vectorize(f)\n",
        "Y = F(X)"
      ],
      "execution_count": null,
      "outputs": []
    },
    {
      "cell_type": "code",
      "metadata": {
        "id": "mqbYT8N4TZsY"
      },
      "source": [
        "#random data by F(X) + random residual(upper bound=2)\n",
        "num = 15 #number of data\n",
        "random_sign = np.vectorize(lambda x: x if np.random.sample() > 0.5 else -x)\n",
        "data_X = np.linspace(1, 9, num)\n",
        "data_Y = random_sign(np.random.sample(num) * 2) + F(data_X)"
      ],
      "execution_count": null,
      "outputs": []
    },
    {
      "cell_type": "code",
      "metadata": {
        "id": "0RDVrCBWTcfC"
      },
      "source": [
        "def linear_regression(X, Y):\n",
        "    a, b = symbols('a b')\n",
        "    residual = 0\n",
        "    for i in range(num):\n",
        "        residual += (Y[i] - (a * X[i] + b)) ** 2\n",
        "\n",
        "    print (residual)\n",
        "    f1 = diff(residual, a)\n",
        "    f2 = diff(residual, b)\n",
        "    print (f1)\n",
        "    print (f2)\n",
        "    res = solve([f1, f2], [a, b])\n",
        "    return res[a], res[b]"
      ],
      "execution_count": null,
      "outputs": []
    },
    {
      "cell_type": "code",
      "metadata": {
        "colab": {
          "base_uri": "https://localhost:8080/"
        },
        "id": "drNlNQlWTiim",
        "outputId": "522f121d-f193-41aa-d1d8-43274d451cdb"
      },
      "source": [
        "a, b = linear_regression(data_X, data_Y)\n",
        "print (a,b)\n",
        "\n",
        "LR_X = X\n",
        "h = lambda x: a*x + b\n",
        "H = np.vectorize(h)\n",
        "LR_Y = H(LR_X)"
      ],
      "execution_count": null,
      "outputs": [
        {
          "output_type": "stream",
          "text": [
            "(-1.0*a - b - 0.214303927596468)**2 + 10.7959183673469*(-a - 0.304347826086957*b + 0.884944129509)**2 + 19.6122448979592*(-a - 0.225806451612903*b + 0.764264440684483)**2 + 37.734693877551*(-a - 0.162790697674419*b + 0.757286797518718)**2 + 45.0816326530612*(-a - 0.148936170212766*b + 0.805280923363445)**2 + 61.734693877551*(-a - 0.127272727272727*b + 0.811210323767226)**2 + 81.0*(-a - 0.111111111111111*b + 0.951570270837825)**2 + 26.7798191918474*(-0.966198111062973*a - 0.193239622212595*b + 1)**2 + 8.65690593514225*(-0.922516646634784*a - 0.339874554023341*b + 1)**2 + 6.06836172623226*(-0.86987628042081*a - 0.405942264196378*b + 1)**2 + 44.9622766497966*(-0.830887872786877*a - 0.149133720756619*b + 1)**2 + 103.434178424814*(-0.828746938401886*a - 0.0983259079459865*b + 1)**2 + 78.1783067861688*(-0.824003404463135*a - 0.11309850649494*b + 1)**2 + 29.3797615990805*(-0.711609259385546*a - 0.184491289470327*b + 1)**2 + 10.5095018022695*(-0.484734109112633*a - 0.308467160344403*b + 1)**2\n",
            "932.857142857143*a + 150.0*b - 938.008116273505\n",
            "150.0*a + 30.0*b - 152.069847557557\n",
            "0.971571991718781 0.211134959991331\n"
          ],
          "name": "stdout"
        }
      ]
    },
    {
      "cell_type": "code",
      "metadata": {
        "colab": {
          "base_uri": "https://localhost:8080/",
          "height": 265
        },
        "id": "lnjNTbC1TmiS",
        "outputId": "543ecb33-a4c1-4cbe-c901-128ff04f8223"
      },
      "source": [
        "#render residual\n",
        "#for i in range(num):\n",
        "#    plt.plot([data_X[i], data_X[i]], [data_Y[i], h(data_X[i])], 'black')\n",
        "\n",
        "#Simple line regression: y=ax+b\n",
        "#http://docs.scipy.org/doc/numpy/reference/generated/numpy.linalg.lstsq.html\n",
        "#A = np.vstack([data_X, np.ones(len(data_X))]).T\n",
        "#a, b = np.linalg.lstsq(A, data_Y)[0]\n",
        "\n",
        "plt.plot(X, Y, 'b') # render blue line\n",
        "plt.plot(LR_X, LR_Y, 'g') # render green line\n",
        "plt.plot(data_X, data_Y, 'ro')\n",
        "plt.show()"
      ],
      "execution_count": null,
      "outputs": [
        {
          "output_type": "display_data",
          "data": {
            "image/png": "[encoded data removed]",
            "text/plain": [
              "<Figure size 432x288 with 1 Axes>"
            ]
          },
          "metadata": {
            "needs_background": "light"
          }
        }
      ]
    }
  ]
}