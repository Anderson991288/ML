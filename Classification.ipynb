{
  "nbformat": 4,
  "nbformat_minor": 0,
  "metadata": {
    "colab": {
      "name": "Classification.ipynb",
      "provenance": [],
      "gpuType": "T4",
      "include_colab_link": true
    },
    "kernelspec": {
      "display_name": "Python 3",
      "name": "python3"
    },
    "language_info": {
      "name": "python"
    },
    "accelerator": "GPU"
  },
  "cells": [
    {
      "cell_type": "markdown",
      "metadata": {
        "id": "view-in-github",
        "colab_type": "text"
      },
      "source": [
        "<a href=\"https://colab.research.google.com/github/Anderson991288/Machine-Learning/blob/main/Classification.ipynb\" target=\"_parent\"><img src=\"https://colab.research.google.com/assets/colab-badge.svg\" alt=\"Open In Colab\"/></a>"
      ]
    },
    {
      "cell_type": "markdown",
      "metadata": {
        "id": "xULA-rzpFPRz"
      },
      "source": [
        "下載資料\n"
      ]
    },
    {
      "cell_type": "code",
      "metadata": {
        "colab": {
          "base_uri": "https://localhost:8080/"
        },
        "id": "5-KKolaxDOMd",
        "outputId": "986e702a-70be-4e76-bf84-867cc92dd4e8"
      },
      "source": [
        "!gdown --id '1KSFIRh0-_Vr7SdiSCZP1ItV7bXPxMD92' --output data.tar.gz\n",
        "!tar -zxvf data.tar.gz\n",
        "!ls"
      ],
      "execution_count": 1,
      "outputs": [
        {
          "output_type": "stream",
          "name": "stdout",
          "text": [
            "/usr/local/lib/python3.10/dist-packages/gdown/cli.py:121: FutureWarning: Option `--id` was deprecated in version 4.3.1 and will be removed in 5.0. You don't need to pass it anymore to use a file ID.\n",
            "  warnings.warn(\n",
            "Downloading...\n",
            "From: https://drive.google.com/uc?id=1KSFIRh0-_Vr7SdiSCZP1ItV7bXPxMD92\n",
            "To: /content/data.tar.gz\n",
            "100% 6.11M/6.11M [00:00<00:00, 109MB/s]\n",
            "data/\n",
            "data/sample_submission.csv\n",
            "data/test_no_label.csv\n",
            "data/train.csv\n",
            "data/X_test\n",
            "data/X_train\n",
            "data/Y_train\n",
            "data  data.tar.gz  sample_data\n"
          ]
        }
      ]
    },
    {
      "cell_type": "markdown",
      "metadata": {
        "id": "qoJ1sIR01llY"
      },
      "source": [
        "input Data"
      ]
    },
    {
      "cell_type": "code",
      "metadata": {
        "colab": {
          "base_uri": "https://localhost:8080/"
        },
        "id": "De5tykRyEkVq",
        "outputId": "aa44ab6e-756e-4a5d-d6ce-dc063e3ddae8"
      },
      "source": [
        "import numpy as np\n",
        "\n",
        "np.random.seed(0)  #隨機產生亂數\n",
        "X_train_fpath = './data/X_train'\n",
        "Y_train_fpath = './data/Y_train'\n",
        "X_test_fpath = './data/X_test'\n",
        "output_fpath = './output_{}.csv'\n",
        "\n",
        "# 把檔案寫成Array的形式\n",
        "with open(X_train_fpath) as file:\n",
        "    next(file)\n",
        "    X_train = np.array([line.strip('\\n').split(',')[1:] for line in file], dtype = float)\n",
        "with open(Y_train_fpath) as file:\n",
        "    next(file)\n",
        "    Y_train = np.array([line.strip('\\n').split(',')[1] for line in file], dtype = float)\n",
        "with open(X_test_fpath) as file:\n",
        "    next(file)\n",
        "    X_test = np.array([line.strip('\\n').split(',')[1:] for line in file], dtype = float)\n",
        "\n",
        "# 把資料一般化\n",
        "def normalize(X, train = True, specified_column = None, X_mean = None, X_std = None):\n",
        "    # This function normalizes specific columns of X.\n",
        "    # The mean and standard variance of training data will be reused when processing testing data.\n",
        "    #\n",
        "    # 參數:\n",
        "    #     X: 要處理的資料\n",
        "    #     train: 'True':處理資料, 'False':測試資料\n",
        "    #     specific_column: indexes of the columns that will be normalized. If 'None', all columns\n",
        "    #         will be normalized.\n",
        "    #     X_mean: mean value of training data, used when train = 'False'\n",
        "    #     X_std: standard deviation of training data, used when train = 'False'\n",
        "    # Outputs:\n",
        "    #     X: normalized data\n",
        "    #     X_mean: computed mean value of training data\n",
        "    #     X_std: computed standard deviation of training data\n",
        "\n",
        "    if specified_column == None:\n",
        "        specified_column = np.arange(X.shape[1])\n",
        "    if train:\n",
        "        X_mean = np.mean(X[:, specified_column] ,0).reshape(1, -1)\n",
        "        X_std  = np.std(X[:, specified_column], 0).reshape(1, -1)\n",
        "\n",
        "    X[:,specified_column] = (X[:, specified_column] - X_mean) / (X_std + 1e-8)\n",
        "\n",
        "    return X, X_mean, X_std\n",
        "\n",
        "def _train_dev_split(X, Y, dev_ratio = 0.25):\n",
        "    # This function spilts data into training set and development set.\n",
        "    train_size = int(len(X) * (1 - dev_ratio))\n",
        "    return X[:train_size], Y[:train_size], X[train_size:], Y[train_size:]\n",
        "\n",
        "# Normalize training and testing data\n",
        "X_train, X_mean, X_std = normalize(X_train, train = True)\n",
        "X_test, _, _= normalize(X_test, train = False, specified_column = None, X_mean = X_mean, X_std = X_std)\n",
        "\n",
        "# Split data into training set and development set\n",
        "dev_ratio = 0.1\n",
        "X_train, Y_train, X_dev, Y_dev = _train_dev_split(X_train, Y_train, dev_ratio = dev_ratio)\n",
        "\n",
        "train_size = X_train.shape[0]\n",
        "dev_size = X_dev.shape[0]\n",
        "test_size = X_test.shape[0]\n",
        "data_dim = X_train.shape[1]\n",
        "print('Size of training set: {}'.format(train_size))\n",
        "print('Size of development set: {}'.format(dev_size))\n",
        "print('Size of testing set: {}'.format(test_size))\n",
        "print('Dimension of data: {}'.format(data_dim))"
      ],
      "execution_count": 2,
      "outputs": [
        {
          "output_type": "stream",
          "name": "stdout",
          "text": [
            "Size of training set: 48830\n",
            "Size of development set: 5426\n",
            "Size of testing set: 27622\n",
            "Dimension of data: 510\n"
          ]
        }
      ]
    },
    {
      "cell_type": "markdown",
      "metadata": {
        "id": "goyUMDiLiWwP"
      },
      "source": [
        "**Logistic Regression**:是一個平滑的曲線，當w0*x0+w1*x1+…+wn*xn越大時判斷成A類的\n",
        "機率越大，越小時判斷成A類的機率越小。\n",
        "\n",
        "\n",
        "由於是二元分類，如果判斷成A類的機率越小，B類的機率越大(判斷成B類的機率 = 1 - 判斷成A的機率)。"
      ]
    },
    {
      "cell_type": "code",
      "metadata": {
        "id": "x14NUigrFrNJ"
      },
      "source": [
        "def shuffle(X, Y):\n",
        "    # 打亂數據的順序\n",
        "    randomize = np.arange(len(X))\n",
        "    np.random.shuffle(randomize)\n",
        "    return (X[randomize], Y[randomize])\n",
        "\n",
        "def sigmoid(z):\n",
        "    # Sigmoid function can be used to calculate probability.\n",
        "    # To avoid overflow, minimum/maximum output value is set.\n",
        "    return np.clip(1 / (1.0 + np.exp(-z)), 1e-8, 1 - (1e-8))  # numpy.clip( a , a_min , a_max)\n",
        "\n",
        "def f(X, w, b):\n",
        "  linear = np.dot(X, w) + b\n",
        "  probabilities = 1 / (1 + np.exp(-linear))\n",
        "    # logistic regression function\n",
        "    # Arguements:\n",
        "    #     X: input data, shape = [batch_size, data_dimension]\n",
        "    #     w: weight vector, shape = [data_dimension, ]\n",
        "    #     b: bias, scalar\n",
        "    # Output:\n",
        "    #     predicted probability of each row of X being positively labeled, shape = [batch_size, ]\n",
        "  return sigmoid(np.matmul(X , w) + b)  #np.matmul(X, w):矩陣相乘\n",
        "  return probabilities\n",
        "def predict(X, w, b):\n",
        "    # This function returns a truth value prediction for each row of X\n",
        "    # by rounding the result of logistic regression function.\n",
        "    return np.round(f(X, w, b)).astype(np.int)  #np.round: 四捨五入\n",
        "\n",
        "def accuracy(Y_pred, Y_label):\n",
        "    # 計算預測的準確度\n",
        "    accuracy = 1 - np.mean(np.abs(Y_pred - Y_label))\n",
        "    return accuracy"
      ],
      "execution_count": 12,
      "outputs": []
    },
    {
      "cell_type": "markdown",
      "metadata": {
        "id": "fkLCsWxUlzx0"
      },
      "source": [
        "**cross_entropy:**    Loss函数的一種（也稱為損失函數），用來描述模型預測值與真實值的差距大小"
      ]
    },
    {
      "cell_type": "code",
      "metadata": {
        "id": "MAbuV-47fLNO"
      },
      "source": [
        "def cross_entropy_loss(y_pred, Y_label):\n",
        "    # This function computes the cross entropy.\n",
        "    #\n",
        "    # Arguements:\n",
        "    #     y_pred: probabilistic predictions, float vector\n",
        "    #     Y_label: ground truth labels, bool vector\n",
        "    # Output:\n",
        "    #     cross entropy, scalar\n",
        "    cross_entropy = -np.dot(Y_label , np.log(y_pred)) - np.dot((1 - Y_label) , np.log(1 - y_pred))\n",
        "    return cross_entropy\n",
        "\n",
        "def gradient(X, Y_label, w, b):\n",
        "    # This function computes the gradient of cross entropy loss with respect to weight w and bias b.\n",
        "    y_pred = f(X, w, b)\n",
        "    pred_error = Y_label - y_pred\n",
        "    w_grad = -np.sum(pred_error * X.T, 1)\n",
        "    b_grad = -np.sum(pred_error)\n",
        "    return w_grad, b_grad\n"
      ],
      "execution_count": 4,
      "outputs": []
    },
    {
      "cell_type": "markdown",
      "metadata": {
        "id": "rSYul9Ly1uxl"
      },
      "source": [
        "**Mini-batch training:**把訓練集分割成比較小的， 一堆小小的資料集，我們稱他們稱為 \"mini-batches\"\n",
        "\n",
        "\n",
        "用小批次梯度下降把整個訓練集處理過一次，也稱為「做一個 “epoch” 的訓練」。 “epoch” 的意思是把訓練集掃過一遍。\n",
        "\n",
        "參考:\n",
        "https://medium.com/%E5%AD%B8%E4%BB%A5%E5%BB%A3%E6%89%8D/%E5%84%AA%E5%8C%96%E6%BC%94%E7%AE%97-5a4213d08943"
      ]
    },
    {
      "cell_type": "code",
      "metadata": {
        "colab": {
          "base_uri": "https://localhost:8080/"
        },
        "id": "9RKFxI3zfTkW",
        "outputId": "3514323f-ed1f-483e-9cd8-d63125e146e7"
      },
      "source": [
        "# Zero initialization for weights ans bias\n",
        "# 初始化\n",
        "w = np.zeros((data_dim,))\n",
        "b = np.zeros((1,))\n",
        "\n",
        "# 一些訓練會用到的參數\n",
        "max_iter = 10\n",
        "batch_size = 8\n",
        "learning_rate = 0.2\n",
        "\n",
        "# Keep the loss and accuracy at every iteration for plotting\n",
        "# 儲存損失跟準度(繪圖用)\n",
        "train_loss = []\n",
        "dev_loss = []\n",
        "train_acc = []\n",
        "dev_acc = []\n",
        "\n",
        "# Calcuate the number of parameter updates\n",
        "step = 1\n",
        "\n",
        "# Iterative training(迭代訓練)\n",
        "for epoch in range(max_iter):\n",
        "    # Random shuffle at the beginning of each epoch\n",
        "    X_train, Y_train = shuffle(X_train, Y_train)\n",
        "\n",
        "    # Mini-batch training\n",
        "    for idx in range(int(np.floor(train_size / batch_size))):   #np.floor : 向下取整\n",
        "        X = X_train[idx * batch_size : (idx+1) * batch_size]\n",
        "        Y = Y_train[idx * batch_size : (idx+1) * batch_size]\n",
        "\n",
        "        # 計算梯度\n",
        "        w_grad, b_grad = gradient(X, Y, w, b)\n",
        "\n",
        "        # gradient descent update\n",
        "        # learning rate decay with time\n",
        "        w = w - learning_rate/np.sqrt(step) * w_grad\n",
        "        b = b - learning_rate/np.sqrt(step) * b_grad\n",
        "\n",
        "        step = step + 1\n",
        "\n",
        "    # Compute loss and accuracy of training set and development set\n",
        "    y_train_pred = f(X_train, w, b)\n",
        "    Y_train_pred = np.round(y_train_pred)\n",
        "    train_acc.append(accuracy(Y_train_pred, Y_train))\n",
        "    train_loss.append(cross_entropy_loss(y_train_pred, Y_train) / train_size)\n",
        "\n",
        "    y_dev_pred = f(X_dev, w, b)\n",
        "    Y_dev_pred = np.round(y_dev_pred)\n",
        "    dev_acc.append(accuracy(Y_dev_pred, Y_dev))\n",
        "    dev_loss.append(cross_entropy_loss(y_dev_pred, Y_dev) / dev_size)\n",
        "\n",
        "print('Training loss: {}'.format(train_loss[-1]))\n",
        "print('Development loss: {}'.format(dev_loss[-1]))\n",
        "print('Training accuracy: {}'.format(train_acc[-1]))\n",
        "print('Development accuracy: {}'.format(dev_acc[-1]))"
      ],
      "execution_count": 5,
      "outputs": [
        {
          "output_type": "stream",
          "name": "stdout",
          "text": [
            "Training loss: 0.271355435246406\n",
            "Development loss: 0.2896359675026287\n",
            "Training accuracy: 0.8836166291214418\n",
            "Development accuracy: 0.8733873940287504\n"
          ]
        }
      ]
    },
    {
      "cell_type": "code",
      "metadata": {
        "colab": {
          "base_uri": "https://localhost:8080/",
          "height": 841
        },
        "id": "LIb4P-vqfULk",
        "outputId": "da3e766c-5396-4be9-f891-4cd8980aa7d3"
      },
      "source": [
        "import matplotlib.pyplot as plt\n",
        "\n",
        "# Loss curve\n",
        "fig = plt.gcf()\n",
        "fig.set_size_inches(6.7, 4.5)\n",
        "plt.plot(train_loss)\n",
        "plt.plot(dev_loss)\n",
        "plt.title('Loss')\n",
        "plt.legend(['train', 'dev'])\n",
        "plt.grid(ls='--')\n",
        "plt.savefig('loss.png')\n",
        "plt.show()\n",
        "\n",
        "# Accuracy curve\n",
        "fig = plt.gcf()\n",
        "fig.set_size_inches(6.5, 4.5)\n",
        "plt.plot(train_acc)\n",
        "plt.plot(dev_acc)\n",
        "plt.title('Accuracy')\n",
        "plt.legend(['train', 'dev'])\n",
        "plt.grid(ls='--')\n",
        "plt.savefig('acc.png')\n",
        "plt.show()"
      ],
      "execution_count": 6,
      "outputs": [
        {
          "output_type": "display_data",
          "data": {
            "text/plain": [
              "<Figure size 670x450 with 1 Axes>"
            ],
            "image/png": "[encoded data removed]"
          },
          "metadata": {}
        },
        {
          "output_type": "display_data",
          "data": {
            "text/plain": [
              "<Figure size 650x450 with 1 Axes>"
            ],
            "image/png": "[encoded data removed]"
          },
          "metadata": {}
        }
      ]
    },
    {
      "cell_type": "code",
      "metadata": {
        "colab": {
          "base_uri": "https://localhost:8080/"
        },
        "id": "NIRdnkU1flAN",
        "outputId": "3899ce6c-d013-4073-f23b-0300cd56812e"
      },
      "source": [
        "# Predict testing labels\n",
        "predictions = predict(X_test, w, b)\n",
        "with open(output_fpath.format('logistic'), 'w') as f:\n",
        "    f.write('id,label\\n')\n",
        "    for i, label in  enumerate(predictions):\n",
        "        f.write('{},{}\\n'.format(i, label))\n",
        "\n",
        "# Print out the most significant weights\n",
        "ind = np.argsort(np.abs(w))[::-1]\n",
        "with open(X_test_fpath) as f:\n",
        "    content = f.readline().strip('\\n').split(',')\n",
        "features = np.array(content)\n",
        "for i in ind[0:10]:\n",
        "    print(features[i], w[i])"
      ],
      "execution_count": 7,
      "outputs": [
        {
          "output_type": "stream",
          "name": "stdout",
          "text": [
            " Not in universe -4.031960278019252\n",
            " Spouse of householder -1.6254039587051403\n",
            " Other Rel <18 never married RP of subfamily -1.4195759775765409\n",
            " Child 18+ ever marr Not in a subfamily -1.2958572076664747\n",
            " Unemployed full-time 1.1712558285885908\n",
            " Other Rel <18 ever marr RP of subfamily -1.1677918072962368\n",
            " Italy -1.0934581438006177\n",
            " Vietnam -1.0630365633146412\n",
            "num persons worked for employer 0.9389922773566504\n",
            " 1 0.8226614922117185\n"
          ]
        },
        {
          "output_type": "stream",
          "name": "stderr",
          "text": [
            "<ipython-input-3-6a67f3f30c6d>:25: DeprecationWarning: `np.int` is a deprecated alias for the builtin `int`. To silence this warning, use `int` by itself. Doing this will not modify any behavior and is safe. When replacing `np.int`, you may wish to use e.g. `np.int64` or `np.int32` to specify the precision. If you wish to review your current use, check the release note link for additional information.\n",
            "Deprecated in NumPy 1.20; for more details and guidance: https://numpy.org/devdocs/release/1.20.0-notes.html#deprecations\n",
            "  return np.round(f(X, w, b)).astype(np.int)  #np.round: 四捨五入\n"
          ]
        }
      ]
    },
    {
      "cell_type": "code",
      "metadata": {
        "id": "ONomRVjPfnWd"
      },
      "source": [
        "# Parse csv files to numpy array\n",
        "# 把檔案寫成Array的形式\n",
        "with open(X_train_fpath) as file:\n",
        "    next(file)\n",
        "    X_train = np.array([line.strip('\\n').split(',')[1:] for line in file], dtype = float)\n",
        "with open(Y_train_fpath) as file:\n",
        "    next(file)\n",
        "    Y_train = np.array([line.strip('\\n').split(',')[1] for line in file], dtype = float)\n",
        "with open(X_test_fpath) as file:\n",
        "    next(file)\n",
        "    X_test = np.array([line.strip('\\n').split(',')[1:] for line in file], dtype = float)\n",
        "\n",
        "# Normalize training and testing data\n",
        "# 把資料一般化\n",
        "X_train, X_mean, X_std = normalize(X_train, train = True)\n",
        "X_test, _, _= normalize(X_test, train = False, specified_column = None, X_mean = X_mean, X_std = X_std)"
      ],
      "execution_count": 8,
      "outputs": []
    },
    {
      "cell_type": "code",
      "metadata": {
        "id": "9IQbKv6Yfpd9"
      },
      "source": [
        "# Compute in-class mean\n",
        "X_train_0 = np.array([x for x, y in zip(X_train, Y_train) if y == 0])\n",
        "X_train_1 = np.array([x for x, y in zip(X_train, Y_train) if y == 1])\n",
        "\n",
        "mean_0 = np.mean(X_train_0, axis = 0)\n",
        "mean_1 = np.mean(X_train_1, axis = 0)\n",
        "\n",
        "# Compute in-class covariance       #covariance : 共變異數 (算x和y的相關程度)\n",
        "cov_0 = np.zeros((data_dim, data_dim))\n",
        "cov_1 = np.zeros((data_dim, data_dim))\n",
        "\n",
        "for x in X_train_0:\n",
        "    cov_0 += np.dot(np.transpose([x - mean_0]), [x - mean_0]) / X_train_0.shape[0]\n",
        "for x in X_train_1:\n",
        "    cov_1 += np.dot(np.transpose([x - mean_1]), [x - mean_1]) / X_train_1.shape[0]\n",
        "\n",
        "# Shared covariance is taken as a weighted average of individual in-class covariance.\n",
        "cov = (cov_0 * X_train_0.shape[0] + cov_1 * X_train_1.shape[0]) / (X_train_0.shape[0] + X_train_1.shape[0])"
      ],
      "execution_count": 9,
      "outputs": []
    },
    {
      "cell_type": "code",
      "metadata": {
        "colab": {
          "base_uri": "https://localhost:8080/"
        },
        "id": "S8FLei5NfuSE",
        "outputId": "84984b7d-3879-4270-cd0b-5091dbc51b1b"
      },
      "source": [
        "# Compute inverse of covariance matrix.\n",
        "# Since covariance matrix may be nearly singular, np.linalg.inv() may give a large numerical error.\n",
        "# Via SVD decomposition, one can get matrix inverse efficiently and accurately.\n",
        "u, s, v = np.linalg.svd(cov, full_matrices=False)\n",
        "#inv = np.matmul(v.T * 1 / s, u.T)\n",
        "inv = v.T * (1 / s) @ u.T\n",
        "\n",
        "# Directly compute weights and bias\n",
        "w = np.dot(inv, mean_0 - mean_1)\n",
        "#b =  (-0.5) * np.dot(mean_0, np.dot(inv, mean_0)) + 0.5 * np.dot(mean_1, np.dot(inv, mean_1))\\\n",
        "#    + np.log(float(X_train_0.shape[0]) / X_train_1.shape[0])\n",
        "b =  (-0.5) * np.dot(mean_0, np.dot(inv, mean_0)) + 0.5 * np.dot(mean_1, np.dot(inv, mean_1))\\\n",
        "    + np.log(float(X_train_0.shape[0]) / X_train_1.shape[0])\n",
        "\n",
        "# Compute accuracy on training set\n",
        "Y_train_pred = 1 - predict(X_train, w, b)\n",
        "print('Training accuracy: {}'.format(accuracy(Y_train_pred, Y_train)))"
      ],
      "execution_count": 13,
      "outputs": [
        {
          "output_type": "stream",
          "name": "stdout",
          "text": [
            "Training accuracy: 0.8728619876142731\n"
          ]
        },
        {
          "output_type": "stream",
          "name": "stderr",
          "text": [
            "<ipython-input-12-d5365ecedbec>:27: DeprecationWarning: `np.int` is a deprecated alias for the builtin `int`. To silence this warning, use `int` by itself. Doing this will not modify any behavior and is safe. When replacing `np.int`, you may wish to use e.g. `np.int64` or `np.int32` to specify the precision. If you wish to review your current use, check the release note link for additional information.\n",
            "Deprecated in NumPy 1.20; for more details and guidance: https://numpy.org/devdocs/release/1.20.0-notes.html#deprecations\n",
            "  return np.round(f(X, w, b)).astype(np.int)  #np.round: 四捨五入\n"
          ]
        }
      ]
    },
    {
      "cell_type": "code",
      "metadata": {
        "id": "7a-cJfUjfzDv",
        "colab": {
          "base_uri": "https://localhost:8080/"
        },
        "outputId": "4bcb5342-08e3-42ba-e74d-ade9405c8376"
      },
      "source": [
        "# Predict testing labels\n",
        "predictions = 1 - predict(X_test, w, b)\n",
        "with open(output_fpath.format('generative'), 'w') as f:\n",
        "    f.write('id,label\\n')\n",
        "    for i, label in  enumerate(predictions):\n",
        "        f.write('{},{}\\n'.format(i, label))\n",
        "\n",
        "# Print out the most significant weights\n",
        "# argsort()函式是將x中的元素從小到大排列，提取其對應的index(索引)，然後輸出到y  (把index排序)\n",
        "ind = np.argsort(np.abs(w))[::-1]       # [::-1] 把順序顛倒\n",
        "with open(X_test_fpath) as file:\n",
        "    content = file.readline().strip('\\n').split(',')\n",
        "features = np.array(content)\n",
        "for i in ind[0:10]:\n",
        "    print(features[i], w[i])"
      ],
      "execution_count": 14,
      "outputs": [
        {
          "output_type": "stream",
          "name": "stdout",
          "text": [
            " Retail trade 8.6314697265625\n",
            " 34 -6.515625\n",
            " 37 -6.029296875\n",
            " Abroad 5.6630859375\n",
            " Other service -5.552978515625\n",
            " Education 4.8046875\n",
            " Same county 4.73974609375\n",
            " Abroad to nonMSA -4.63671875\n",
            " 17 -4.4921875\n",
            " Different state in Midwest -3.20751953125\n"
          ]
        },
        {
          "output_type": "stream",
          "name": "stderr",
          "text": [
            "<ipython-input-12-d5365ecedbec>:27: DeprecationWarning: `np.int` is a deprecated alias for the builtin `int`. To silence this warning, use `int` by itself. Doing this will not modify any behavior and is safe. When replacing `np.int`, you may wish to use e.g. `np.int64` or `np.int32` to specify the precision. If you wish to review your current use, check the release note link for additional information.\n",
            "Deprecated in NumPy 1.20; for more details and guidance: https://numpy.org/devdocs/release/1.20.0-notes.html#deprecations\n",
            "  return np.round(f(X, w, b)).astype(np.int)  #np.round: 四捨五入\n"
          ]
        }
      ]
    }
  ]
}